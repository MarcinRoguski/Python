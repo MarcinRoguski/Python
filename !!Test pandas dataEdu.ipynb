{
 "cells": [
  {
   "cell_type": "code",
   "execution_count": 82,
   "id": "2c4201f9",
   "metadata": {},
   "outputs": [],
   "source": [
    "import pandas as pd\n",
    "import numpy as np\n",
    "import matplotlib.pyplot as plt\n",
    "import math as math\n",
    "from scipy import stats\n",
    "%matplotlib inline\n"
   ]
  },
  {
   "cell_type": "code",
   "execution_count": 105,
   "id": "ebd5acb8",
   "metadata": {},
   "outputs": [],
   "source": [
    "dataEdu = pd.read_csv('c://PythonScripts//BankChurners.csv', usecols = [\"Customer_Age\"]). squeeze()\n"
   ]
  },
  {
   "cell_type": "code",
   "execution_count": 106,
   "id": "35357264",
   "metadata": {},
   "outputs": [],
   "source": [
    "avg = np.mean(dataEdu)\n",
    "med = np.median(dataEdu)\n",
    "mode = stats.mode(dataEdu)\n",
    "std = np.std(dataEdu)\n"
   ]
  },
  {
   "cell_type": "code",
   "execution_count": 102,
   "id": "5cad0714",
   "metadata": {},
   "outputs": [
    {
     "name": "stdout",
     "output_type": "stream",
     "text": [
      "Średnia:  46\n"
     ]
    }
   ],
   "source": [
    "print(\"Średnia: \", round(avg))\n"
   ]
  },
  {
   "cell_type": "code",
   "execution_count": 108,
   "id": "56ce3b3d",
   "metadata": {},
   "outputs": [
    {
     "name": "stdout",
     "output_type": "stream",
     "text": [
      "Mediana: 46.0\n"
     ]
    }
   ],
   "source": [
    "print(\"Mediana:\", med)"
   ]
  },
  {
   "cell_type": "code",
   "execution_count": 104,
   "id": "5f3ad8d0",
   "metadata": {},
   "outputs": [
    {
     "name": "stdout",
     "output_type": "stream",
     "text": [
      "Dominanta: [44]\n"
     ]
    }
   ],
   "source": [
    "\n",
    "print(\"Dominanta:\", mode[0])"
   ]
  },
  {
   "cell_type": "code",
   "execution_count": 115,
   "id": "f003075c",
   "metadata": {},
   "outputs": [
    {
     "name": "stdout",
     "output_type": "stream",
     "text": [
      "Odchylenie standardowe: 8.016418208911816\n"
     ]
    }
   ],
   "source": [
    "print(\"Odchylenie standardowe:\", std)"
   ]
  }
 ],
 "metadata": {
  "kernelspec": {
   "display_name": "Python 3 (ipykernel)",
   "language": "python",
   "name": "python3"
  },
  "language_info": {
   "codemirror_mode": {
    "name": "ipython",
    "version": 3
   },
   "file_extension": ".py",
   "mimetype": "text/x-python",
   "name": "python",
   "nbconvert_exporter": "python",
   "pygments_lexer": "ipython3",
   "version": "3.9.13"
  }
 },
 "nbformat": 4,
 "nbformat_minor": 5
}
