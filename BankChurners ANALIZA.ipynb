{
 "cells": [
  {
   "cell_type": "code",
   "execution_count": 9,
   "metadata": {},
   "outputs": [],
   "source": [
    "import pandas as pd\n",
    "\n",
    "df = pd.read_csv(\n",
    "    'https://raw.githubusercontent.com/CodersLab/DataLab_intro/main/iterim/BankChurner_ColumnsRenamed.csv',\n",
    "    sep=';'\n",
    "    )"
   ]
  },
  {
   "cell_type": "code",
   "execution_count": 10,
   "metadata": {},
   "outputs": [
    {
     "data": {
      "text/html": [
       "<div>\n",
       "<style scoped>\n",
       "    .dataframe tbody tr th:only-of-type {\n",
       "        vertical-align: middle;\n",
       "    }\n",
       "\n",
       "    .dataframe tbody tr th {\n",
       "        vertical-align: top;\n",
       "    }\n",
       "\n",
       "    .dataframe thead th {\n",
       "        text-align: right;\n",
       "    }\n",
       "</style>\n",
       "<table border=\"1\" class=\"dataframe\">\n",
       "  <thead>\n",
       "    <tr style=\"text-align: right;\">\n",
       "      <th></th>\n",
       "      <th>Client_ID</th>\n",
       "      <th>Attrition_Flag</th>\n",
       "      <th>Customer_Age</th>\n",
       "      <th>Gender</th>\n",
       "      <th>Dependent_count</th>\n",
       "      <th>Education_Level</th>\n",
       "      <th>Marital_Status</th>\n",
       "      <th>Income_Category</th>\n",
       "      <th>Card_Category</th>\n",
       "      <th>Months_on_book</th>\n",
       "      <th>...</th>\n",
       "      <th>Months_Inactive_12_mon</th>\n",
       "      <th>Contacts_Count_12_mon</th>\n",
       "      <th>Credit_Limit</th>\n",
       "      <th>Total_Revolving_Bal</th>\n",
       "      <th>Avg_Open_To_Buy</th>\n",
       "      <th>Total_Amt_Chng_Q4_Q1</th>\n",
       "      <th>Total_Trans_Amt</th>\n",
       "      <th>Total_Trans_Ct</th>\n",
       "      <th>Total_Ct_Chng_Q4_Q1</th>\n",
       "      <th>Avg_Utilization_Ratio</th>\n",
       "    </tr>\n",
       "  </thead>\n",
       "  <tbody>\n",
       "    <tr>\n",
       "      <th>0</th>\n",
       "      <td>768805383</td>\n",
       "      <td>Existing Customer</td>\n",
       "      <td>45</td>\n",
       "      <td>M</td>\n",
       "      <td>3</td>\n",
       "      <td>High School</td>\n",
       "      <td>Married</td>\n",
       "      <td>$60K - $80K</td>\n",
       "      <td>Blue</td>\n",
       "      <td>39</td>\n",
       "      <td>...</td>\n",
       "      <td>1</td>\n",
       "      <td>3</td>\n",
       "      <td>12691.0</td>\n",
       "      <td>777</td>\n",
       "      <td>11914.0</td>\n",
       "      <td>1.335</td>\n",
       "      <td>1144</td>\n",
       "      <td>42</td>\n",
       "      <td>1.625</td>\n",
       "      <td>0.061</td>\n",
       "    </tr>\n",
       "    <tr>\n",
       "      <th>1</th>\n",
       "      <td>818770008</td>\n",
       "      <td>Existing Customer</td>\n",
       "      <td>49</td>\n",
       "      <td>F</td>\n",
       "      <td>5</td>\n",
       "      <td>Graduate</td>\n",
       "      <td>Single</td>\n",
       "      <td>Less than $40K</td>\n",
       "      <td>Blue</td>\n",
       "      <td>44</td>\n",
       "      <td>...</td>\n",
       "      <td>1</td>\n",
       "      <td>2</td>\n",
       "      <td>8256.0</td>\n",
       "      <td>864</td>\n",
       "      <td>7392.0</td>\n",
       "      <td>1.541</td>\n",
       "      <td>1291</td>\n",
       "      <td>33</td>\n",
       "      <td>3.714</td>\n",
       "      <td>0.105</td>\n",
       "    </tr>\n",
       "    <tr>\n",
       "      <th>2</th>\n",
       "      <td>713982108</td>\n",
       "      <td>Existing Customer</td>\n",
       "      <td>51</td>\n",
       "      <td>M</td>\n",
       "      <td>3</td>\n",
       "      <td>Graduate</td>\n",
       "      <td>Married</td>\n",
       "      <td>$80K - $120K</td>\n",
       "      <td>Blue</td>\n",
       "      <td>36</td>\n",
       "      <td>...</td>\n",
       "      <td>1</td>\n",
       "      <td>0</td>\n",
       "      <td>3418.0</td>\n",
       "      <td>0</td>\n",
       "      <td>3418.0</td>\n",
       "      <td>2.594</td>\n",
       "      <td>1887</td>\n",
       "      <td>20</td>\n",
       "      <td>2.333</td>\n",
       "      <td>0.000</td>\n",
       "    </tr>\n",
       "    <tr>\n",
       "      <th>3</th>\n",
       "      <td>769911858</td>\n",
       "      <td>Existing Customer</td>\n",
       "      <td>40</td>\n",
       "      <td>F</td>\n",
       "      <td>4</td>\n",
       "      <td>High School</td>\n",
       "      <td>Unknown</td>\n",
       "      <td>Less than $40K</td>\n",
       "      <td>Blue</td>\n",
       "      <td>34</td>\n",
       "      <td>...</td>\n",
       "      <td>4</td>\n",
       "      <td>1</td>\n",
       "      <td>3313.0</td>\n",
       "      <td>2517</td>\n",
       "      <td>796.0</td>\n",
       "      <td>1.405</td>\n",
       "      <td>1171</td>\n",
       "      <td>20</td>\n",
       "      <td>2.333</td>\n",
       "      <td>0.760</td>\n",
       "    </tr>\n",
       "    <tr>\n",
       "      <th>4</th>\n",
       "      <td>709106358</td>\n",
       "      <td>Existing Customer</td>\n",
       "      <td>40</td>\n",
       "      <td>M</td>\n",
       "      <td>3</td>\n",
       "      <td>Uneducated</td>\n",
       "      <td>Married</td>\n",
       "      <td>$60K - $80K</td>\n",
       "      <td>Blue</td>\n",
       "      <td>21</td>\n",
       "      <td>...</td>\n",
       "      <td>1</td>\n",
       "      <td>0</td>\n",
       "      <td>4716.0</td>\n",
       "      <td>0</td>\n",
       "      <td>4716.0</td>\n",
       "      <td>2.175</td>\n",
       "      <td>816</td>\n",
       "      <td>28</td>\n",
       "      <td>2.500</td>\n",
       "      <td>0.000</td>\n",
       "    </tr>\n",
       "  </tbody>\n",
       "</table>\n",
       "<p>5 rows × 21 columns</p>\n",
       "</div>"
      ],
      "text/plain": [
       "   Client_ID     Attrition_Flag  Customer_Age Gender  Dependent_count  \\\n",
       "0  768805383  Existing Customer            45      M                3   \n",
       "1  818770008  Existing Customer            49      F                5   \n",
       "2  713982108  Existing Customer            51      M                3   \n",
       "3  769911858  Existing Customer            40      F                4   \n",
       "4  709106358  Existing Customer            40      M                3   \n",
       "\n",
       "  Education_Level Marital_Status Income_Category Card_Category  \\\n",
       "0     High School        Married     $60K - $80K          Blue   \n",
       "1        Graduate         Single  Less than $40K          Blue   \n",
       "2        Graduate        Married    $80K - $120K          Blue   \n",
       "3     High School        Unknown  Less than $40K          Blue   \n",
       "4      Uneducated        Married     $60K - $80K          Blue   \n",
       "\n",
       "   Months_on_book  ...  Months_Inactive_12_mon  Contacts_Count_12_mon  \\\n",
       "0              39  ...                       1                      3   \n",
       "1              44  ...                       1                      2   \n",
       "2              36  ...                       1                      0   \n",
       "3              34  ...                       4                      1   \n",
       "4              21  ...                       1                      0   \n",
       "\n",
       "   Credit_Limit  Total_Revolving_Bal  Avg_Open_To_Buy  Total_Amt_Chng_Q4_Q1  \\\n",
       "0       12691.0                  777          11914.0                 1.335   \n",
       "1        8256.0                  864           7392.0                 1.541   \n",
       "2        3418.0                    0           3418.0                 2.594   \n",
       "3        3313.0                 2517            796.0                 1.405   \n",
       "4        4716.0                    0           4716.0                 2.175   \n",
       "\n",
       "   Total_Trans_Amt  Total_Trans_Ct  Total_Ct_Chng_Q4_Q1  Avg_Utilization_Ratio  \n",
       "0             1144              42                1.625                  0.061  \n",
       "1             1291              33                3.714                  0.105  \n",
       "2             1887              20                2.333                  0.000  \n",
       "3             1171              20                2.333                  0.760  \n",
       "4              816              28                2.500                  0.000  \n",
       "\n",
       "[5 rows x 21 columns]"
      ]
     },
     "execution_count": 10,
     "metadata": {},
     "output_type": "execute_result"
    }
   ],
   "source": [
    "df.head()"
   ]
  },
  {
   "cell_type": "code",
   "execution_count": 11,
   "metadata": {},
   "outputs": [],
   "source": [
    "df[\"Is_Active\"] = 1\n",
    "\n",
    "is_active = df[\"Attrition_Flag\"] == \"Attrited Customer\"\n",
    "df.loc[is_active, \"Is_Active\"] = 0\n"
   ]
  },
  {
   "cell_type": "code",
   "execution_count": 12,
   "metadata": {},
   "outputs": [
    {
     "data": {
      "text/html": [
       "<div>\n",
       "<style scoped>\n",
       "    .dataframe tbody tr th:only-of-type {\n",
       "        vertical-align: middle;\n",
       "    }\n",
       "\n",
       "    .dataframe tbody tr th {\n",
       "        vertical-align: top;\n",
       "    }\n",
       "\n",
       "    .dataframe thead th {\n",
       "        text-align: right;\n",
       "    }\n",
       "</style>\n",
       "<table border=\"1\" class=\"dataframe\">\n",
       "  <thead>\n",
       "    <tr style=\"text-align: right;\">\n",
       "      <th></th>\n",
       "      <th>Attrition_Flag</th>\n",
       "      <th>Is_Active</th>\n",
       "    </tr>\n",
       "  </thead>\n",
       "  <tbody>\n",
       "    <tr>\n",
       "      <th>0</th>\n",
       "      <td>Existing Customer</td>\n",
       "      <td>1</td>\n",
       "    </tr>\n",
       "    <tr>\n",
       "      <th>21</th>\n",
       "      <td>Attrited Customer</td>\n",
       "      <td>0</td>\n",
       "    </tr>\n",
       "  </tbody>\n",
       "</table>\n",
       "</div>"
      ],
      "text/plain": [
       "       Attrition_Flag  Is_Active\n",
       "0   Existing Customer          1\n",
       "21  Attrited Customer          0"
      ]
     },
     "execution_count": 12,
     "metadata": {},
     "output_type": "execute_result"
    }
   ],
   "source": [
    "df[[\"Attrition_Flag\", \"Is_Active\"]].drop_duplicates()\n"
   ]
  },
  {
   "cell_type": "code",
   "execution_count": 13,
   "metadata": {},
   "outputs": [
    {
     "data": {
      "text/plain": [
       "array(['$60K - $80K', 'Less than $40K', '$80K - $120K', '$40K - $60K',\n",
       "       '$120K +', 'Unknown'], dtype=object)"
      ]
     },
     "execution_count": 13,
     "metadata": {},
     "output_type": "execute_result"
    }
   ],
   "source": [
    "df[\"Income_Category\"].unique()\n"
   ]
  },
  {
   "cell_type": "code",
   "execution_count": 14,
   "metadata": {},
   "outputs": [],
   "source": [
    "income_below_40k = df[\"Income_Category\"] == \"Less than $40K\"\n",
    "df.loc[income_below_40k, \"Income_Category\"] = \"1. < $40K\"\n",
    "\n",
    "income_below_60k = df[\"Income_Category\"] == \"$40K - $60K\"\n",
    "df.loc[income_below_60k, \"Income_Category\"] = \"2. $40K - 60K\"\n",
    "\n",
    "income_below_80k = df[\"Income_Category\"] == \"$60K - $80K\"\n",
    "df.loc[income_below_80k, \"Income_Category\"] = \"3. $60K - 80K\"\n",
    "\n",
    "income_below_120k = df[\"Income_Category\"] == \"$80K - $120K\"\n",
    "df.loc[income_below_120k, \"Income_Category\"] = \"4. $80K - 120K\"\n",
    "\n",
    "income_above_120k = df[\"Income_Category\"] == \"$120K +\"\n",
    "df.loc[income_above_120k, \"Income_Category\"] = \"5. 120K+\"\n",
    "\n",
    "income_unknown = df[\"Income_Category\"] == \"Unknown\"\n",
    "df.loc[income_unknown, \"Income_Category\"] = \"6. Unknown\"\n"
   ]
  },
  {
   "cell_type": "code",
   "execution_count": 15,
   "metadata": {},
   "outputs": [
    {
     "data": {
      "text/plain": [
       "array(['3. $60K - 80K', '1. < $40K', '4. $80K - 120K', '2. $40K - 60K',\n",
       "       '5. 120K+', '6. Unknown'], dtype=object)"
      ]
     },
     "execution_count": 15,
     "metadata": {},
     "output_type": "execute_result"
    }
   ],
   "source": [
    "df[\"Income_Category\"].unique()\n"
   ]
  },
  {
   "cell_type": "code",
   "execution_count": 16,
   "metadata": {},
   "outputs": [],
   "source": [
    "uneducated = df[\"Education_Level\"] == \"Uneducated\"\n",
    "df.loc[uneducated, \"Education_Level\"] = \"1. Uneducated\"\n",
    "\n",
    "collage = df[\"Education_Level\"] == \"College\"\n",
    "df.loc[collage, \"Education_Level\"] = \"2. College\"\n",
    "\n",
    "high_school = df[\"Education_Level\"] == \"High School\"\n",
    "df.loc[high_school, \"Education_Level\"] = \"3. High School\"\n",
    "\n",
    "graduate = df[\"Education_Level\"] == \"Graduate\"\n",
    "df.loc[graduate, \"Education_Level\"] = \"4. Graduate\"\n",
    "\n",
    "post_graduate = df[\"Education_Level\"] == \"Post-Graduate\"\n",
    "df.loc[post_graduate, \"Education_Level\"] = \"5. Post-Graduate\"\n",
    "\n",
    "doctorate = df[\"Education_Level\"] == \"Doctorate\"\n",
    "df.loc[doctorate, \"Education_Level\"] = \"6. Doctorate\"\n",
    "\n",
    "unknown = df[\"Education_Level\"] == \"Unknown\"\n",
    "df.loc[unknown, \"Education_Level\"] = \"7. Unknown\"\n"
   ]
  },
  {
   "cell_type": "code",
   "execution_count": 17,
   "metadata": {},
   "outputs": [
    {
     "data": {
      "text/plain": [
       "array(['3. High School', '4. Graduate', '1. Uneducated', '7. Unknown',\n",
       "       '2. College', '5. Post-Graduate', '6. Doctorate'], dtype=object)"
      ]
     },
     "execution_count": 17,
     "metadata": {},
     "output_type": "execute_result"
    }
   ],
   "source": [
    "df[\"Education_Level\"].unique()\n"
   ]
  },
  {
   "cell_type": "code",
   "execution_count": 18,
   "metadata": {},
   "outputs": [],
   "source": [
    "blue_cards = df[\"Card_Category\"] == \"Blue\"\n",
    "df.loc[blue_cards, \"Card_Category\"] = \"1. Blue\"\n",
    "\n",
    "silver_cards = df[\"Card_Category\"] == \"Silver\"\n",
    "df.loc[silver_cards, \"Card_Category\"] = \"2. Silver\"\n",
    "\n",
    "gold_cards = df[\"Card_Category\"] == \"Gold\"\n",
    "df.loc[gold_cards, \"Card_Category\"] = \"3. Gold\"\n",
    "\n",
    "platinum_cards = df[\"Card_Category\"] == \"Platinum\"\n",
    "df.loc[platinum_cards, \"Card_Category\"] = \"4. Platinum\"\n"
   ]
  },
  {
   "cell_type": "code",
   "execution_count": 19,
   "metadata": {},
   "outputs": [
    {
     "data": {
      "text/plain": [
       "array(['1. Blue', '3. Gold', '2. Silver', '4. Platinum'], dtype=object)"
      ]
     },
     "execution_count": 19,
     "metadata": {},
     "output_type": "execute_result"
    }
   ],
   "source": [
    "df['Card_Category'].unique()"
   ]
  },
  {
   "cell_type": "code",
   "execution_count": 20,
   "metadata": {},
   "outputs": [],
   "source": [
    "def analyse_column(column_name):\n",
    "    result = df.\\\n",
    "        groupby(by=[column_name])[\"Is_Active\"].\\\n",
    "        agg([\n",
    "            \"mean\",  # określenie średniej\n",
    "            \"count\",  # określenie liczebności grupy\n",
    "            lambda x: sum(1-x),   # liczba kart, które zostały dezaktywowane (0)\n",
    "            lambda x: sum(1-x)/len(x) - 0.16  # odchylenie od średniej globalnej\n",
    "        ])\n",
    "\n",
    "    # nadanie tabeli opisowych nazw kolumn\n",
    "    # ponieważ po tym kroku były by dostępne następujące:\n",
    "    # mean, count, <lambda_0>, <lambda_1>\n",
    "    # które nic nie opisują\n",
    "    result.columns = [\n",
    "        \"Active_Ratio\",\n",
    "        \"Group_Size\",\n",
    "        \"Deactivated_Amount\",\n",
    "        \"Deviation_From_Global\"\n",
    "    ]\n",
    "    return result\n"
   ]
  },
  {
   "cell_type": "code",
   "execution_count": 21,
   "metadata": {},
   "outputs": [
    {
     "data": {
      "text/html": [
       "<div>\n",
       "<style scoped>\n",
       "    .dataframe tbody tr th:only-of-type {\n",
       "        vertical-align: middle;\n",
       "    }\n",
       "\n",
       "    .dataframe tbody tr th {\n",
       "        vertical-align: top;\n",
       "    }\n",
       "\n",
       "    .dataframe thead th {\n",
       "        text-align: right;\n",
       "    }\n",
       "</style>\n",
       "<table border=\"1\" class=\"dataframe\">\n",
       "  <thead>\n",
       "    <tr style=\"text-align: right;\">\n",
       "      <th></th>\n",
       "      <th>Active_Ratio</th>\n",
       "      <th>Group_Size</th>\n",
       "      <th>Deactivated_Amount</th>\n",
       "      <th>Deviation_From_Global</th>\n",
       "    </tr>\n",
       "    <tr>\n",
       "      <th>Client_ID</th>\n",
       "      <th></th>\n",
       "      <th></th>\n",
       "      <th></th>\n",
       "      <th></th>\n",
       "    </tr>\n",
       "  </thead>\n",
       "  <tbody>\n",
       "    <tr>\n",
       "      <th>708082083</th>\n",
       "      <td>1.0</td>\n",
       "      <td>1</td>\n",
       "      <td>0</td>\n",
       "      <td>-0.16</td>\n",
       "    </tr>\n",
       "    <tr>\n",
       "      <th>708083283</th>\n",
       "      <td>0.0</td>\n",
       "      <td>1</td>\n",
       "      <td>1</td>\n",
       "      <td>0.84</td>\n",
       "    </tr>\n",
       "    <tr>\n",
       "      <th>708084558</th>\n",
       "      <td>0.0</td>\n",
       "      <td>1</td>\n",
       "      <td>1</td>\n",
       "      <td>0.84</td>\n",
       "    </tr>\n",
       "    <tr>\n",
       "      <th>708085458</th>\n",
       "      <td>1.0</td>\n",
       "      <td>1</td>\n",
       "      <td>0</td>\n",
       "      <td>-0.16</td>\n",
       "    </tr>\n",
       "    <tr>\n",
       "      <th>708086958</th>\n",
       "      <td>1.0</td>\n",
       "      <td>1</td>\n",
       "      <td>0</td>\n",
       "      <td>-0.16</td>\n",
       "    </tr>\n",
       "    <tr>\n",
       "      <th>...</th>\n",
       "      <td>...</td>\n",
       "      <td>...</td>\n",
       "      <td>...</td>\n",
       "      <td>...</td>\n",
       "    </tr>\n",
       "    <tr>\n",
       "      <th>828288333</th>\n",
       "      <td>1.0</td>\n",
       "      <td>1</td>\n",
       "      <td>0</td>\n",
       "      <td>-0.16</td>\n",
       "    </tr>\n",
       "    <tr>\n",
       "      <th>828291858</th>\n",
       "      <td>0.0</td>\n",
       "      <td>1</td>\n",
       "      <td>1</td>\n",
       "      <td>0.84</td>\n",
       "    </tr>\n",
       "    <tr>\n",
       "      <th>828294933</th>\n",
       "      <td>0.0</td>\n",
       "      <td>1</td>\n",
       "      <td>1</td>\n",
       "      <td>0.84</td>\n",
       "    </tr>\n",
       "    <tr>\n",
       "      <th>828298908</th>\n",
       "      <td>1.0</td>\n",
       "      <td>1</td>\n",
       "      <td>0</td>\n",
       "      <td>-0.16</td>\n",
       "    </tr>\n",
       "    <tr>\n",
       "      <th>828343083</th>\n",
       "      <td>1.0</td>\n",
       "      <td>1</td>\n",
       "      <td>0</td>\n",
       "      <td>-0.16</td>\n",
       "    </tr>\n",
       "  </tbody>\n",
       "</table>\n",
       "<p>10127 rows × 4 columns</p>\n",
       "</div>"
      ],
      "text/plain": [
       "           Active_Ratio  Group_Size  Deactivated_Amount  Deviation_From_Global\n",
       "Client_ID                                                                     \n",
       "708082083           1.0           1                   0                  -0.16\n",
       "708083283           0.0           1                   1                   0.84\n",
       "708084558           0.0           1                   1                   0.84\n",
       "708085458           1.0           1                   0                  -0.16\n",
       "708086958           1.0           1                   0                  -0.16\n",
       "...                 ...         ...                 ...                    ...\n",
       "828288333           1.0           1                   0                  -0.16\n",
       "828291858           0.0           1                   1                   0.84\n",
       "828294933           0.0           1                   1                   0.84\n",
       "828298908           1.0           1                   0                  -0.16\n",
       "828343083           1.0           1                   0                  -0.16\n",
       "\n",
       "[10127 rows x 4 columns]"
      ]
     },
     "execution_count": 21,
     "metadata": {},
     "output_type": "execute_result"
    }
   ],
   "source": [
    "analyse_column(\"Client_ID\")\n"
   ]
  },
  {
   "cell_type": "code",
   "execution_count": 22,
   "metadata": {},
   "outputs": [],
   "source": [
    "import matplotlib.pyplot as plt\n",
    "\n",
    "def visualize_analysis(df, compare_value):\n",
    "    plt.figure(figsize=(15,10))  # określenie wymiaru figury (w calach)\n",
    "\n",
    "    x = df.index.astype(str)  # wartości na osi x\n",
    "    y = df[\"Active_Ratio\"]  # wartości na osi y\n",
    "\n",
    "    plt.bar(x, y)  # określenie typu wykresu, jaki chemy wykreślić – tutaj słupkowy\n",
    "\n",
    "    # stylowanie wykresu\n",
    "    plt.xlabel(\"Group\")  # dodanie legendy dla osi x\n",
    "    plt.ylabel(\"Active ratio\")  # dodanie legendy dla osi y\n",
    "    plt.title(\"Active ratio by groups\")  # nadanie tytułu dla wykresu\n",
    "\n",
    "    # dodamy również linię poziomą, do której będziemy mogli odnosić poszczególne grupy\n",
    "    plt.axhline(compare_value, color=\"red\", linestyle=\"--\")\n",
    "\n",
    "    plt.show()\n",
    "\n"
   ]
  },
  {
   "cell_type": "code",
   "execution_count": 23,
   "metadata": {},
   "outputs": [
    {
     "data": {
      "text/html": [
       "<div>\n",
       "<style scoped>\n",
       "    .dataframe tbody tr th:only-of-type {\n",
       "        vertical-align: middle;\n",
       "    }\n",
       "\n",
       "    .dataframe tbody tr th {\n",
       "        vertical-align: top;\n",
       "    }\n",
       "\n",
       "    .dataframe thead th {\n",
       "        text-align: right;\n",
       "    }\n",
       "</style>\n",
       "<table border=\"1\" class=\"dataframe\">\n",
       "  <thead>\n",
       "    <tr style=\"text-align: right;\">\n",
       "      <th></th>\n",
       "      <th>Active_Ratio</th>\n",
       "      <th>Group_Size</th>\n",
       "      <th>Deactivated_Amount</th>\n",
       "      <th>Deviation_From_Global</th>\n",
       "    </tr>\n",
       "    <tr>\n",
       "      <th>Gender</th>\n",
       "      <th></th>\n",
       "      <th></th>\n",
       "      <th></th>\n",
       "      <th></th>\n",
       "    </tr>\n",
       "  </thead>\n",
       "  <tbody>\n",
       "    <tr>\n",
       "      <th>F</th>\n",
       "      <td>0.826428</td>\n",
       "      <td>5358</td>\n",
       "      <td>930</td>\n",
       "      <td>0.013572</td>\n",
       "    </tr>\n",
       "    <tr>\n",
       "      <th>M</th>\n",
       "      <td>0.853848</td>\n",
       "      <td>4769</td>\n",
       "      <td>697</td>\n",
       "      <td>-0.013848</td>\n",
       "    </tr>\n",
       "  </tbody>\n",
       "</table>\n",
       "</div>"
      ],
      "text/plain": [
       "        Active_Ratio  Group_Size  Deactivated_Amount  Deviation_From_Global\n",
       "Gender                                                                     \n",
       "F           0.826428        5358                 930               0.013572\n",
       "M           0.853848        4769                 697              -0.013848"
      ]
     },
     "execution_count": 23,
     "metadata": {},
     "output_type": "execute_result"
    }
   ],
   "source": [
    "gender_analysis = analyse_column(\"Gender\")\n",
    "gender_analysis\n"
   ]
  },
  {
   "cell_type": "code",
   "execution_count": 24,
   "metadata": {},
   "outputs": [
    {
     "data": {
      "image/png": "[encoded data removed]",
      "text/plain": [
       "<Figure size 1500x1000 with 1 Axes>"
      ]
     },
     "metadata": {},
     "output_type": "display_data"
    }
   ],
   "source": [
    "global_mean = df[\"Is_Active\"].mean()  # określenie globalnego poziomu aktywnych kart\n",
    "visualize_analysis(gender_analysis, global_mean)\n"
   ]
  },
  {
   "cell_type": "code",
   "execution_count": 25,
   "metadata": {},
   "outputs": [
    {
     "data": {
      "text/html": [
       "<div>\n",
       "<style scoped>\n",
       "    .dataframe tbody tr th:only-of-type {\n",
       "        vertical-align: middle;\n",
       "    }\n",
       "\n",
       "    .dataframe tbody tr th {\n",
       "        vertical-align: top;\n",
       "    }\n",
       "\n",
       "    .dataframe thead th {\n",
       "        text-align: right;\n",
       "    }\n",
       "</style>\n",
       "<table border=\"1\" class=\"dataframe\">\n",
       "  <thead>\n",
       "    <tr style=\"text-align: right;\">\n",
       "      <th></th>\n",
       "      <th>Active_Ratio</th>\n",
       "      <th>Group_Size</th>\n",
       "      <th>Deactivated_Amount</th>\n",
       "      <th>Deviation_From_Global</th>\n",
       "    </tr>\n",
       "    <tr>\n",
       "      <th>Education_Level</th>\n",
       "      <th></th>\n",
       "      <th></th>\n",
       "      <th></th>\n",
       "      <th></th>\n",
       "    </tr>\n",
       "  </thead>\n",
       "  <tbody>\n",
       "    <tr>\n",
       "      <th>1. Uneducated</th>\n",
       "      <td>0.840619</td>\n",
       "      <td>1487</td>\n",
       "      <td>237</td>\n",
       "      <td>-0.000619</td>\n",
       "    </tr>\n",
       "    <tr>\n",
       "      <th>2. College</th>\n",
       "      <td>0.847976</td>\n",
       "      <td>1013</td>\n",
       "      <td>154</td>\n",
       "      <td>-0.007976</td>\n",
       "    </tr>\n",
       "    <tr>\n",
       "      <th>3. High School</th>\n",
       "      <td>0.847988</td>\n",
       "      <td>2013</td>\n",
       "      <td>306</td>\n",
       "      <td>-0.007988</td>\n",
       "    </tr>\n",
       "    <tr>\n",
       "      <th>4. Graduate</th>\n",
       "      <td>0.844309</td>\n",
       "      <td>3128</td>\n",
       "      <td>487</td>\n",
       "      <td>-0.004309</td>\n",
       "    </tr>\n",
       "    <tr>\n",
       "      <th>5. Post-Graduate</th>\n",
       "      <td>0.821705</td>\n",
       "      <td>516</td>\n",
       "      <td>92</td>\n",
       "      <td>0.018295</td>\n",
       "    </tr>\n",
       "    <tr>\n",
       "      <th>6. Doctorate</th>\n",
       "      <td>0.789357</td>\n",
       "      <td>451</td>\n",
       "      <td>95</td>\n",
       "      <td>0.050643</td>\n",
       "    </tr>\n",
       "    <tr>\n",
       "      <th>7. Unknown</th>\n",
       "      <td>0.831468</td>\n",
       "      <td>1519</td>\n",
       "      <td>256</td>\n",
       "      <td>0.008532</td>\n",
       "    </tr>\n",
       "  </tbody>\n",
       "</table>\n",
       "</div>"
      ],
      "text/plain": [
       "                  Active_Ratio  Group_Size  Deactivated_Amount  \\\n",
       "Education_Level                                                  \n",
       "1. Uneducated         0.840619        1487                 237   \n",
       "2. College            0.847976        1013                 154   \n",
       "3. High School        0.847988        2013                 306   \n",
       "4. Graduate           0.844309        3128                 487   \n",
       "5. Post-Graduate      0.821705         516                  92   \n",
       "6. Doctorate          0.789357         451                  95   \n",
       "7. Unknown            0.831468        1519                 256   \n",
       "\n",
       "                  Deviation_From_Global  \n",
       "Education_Level                          \n",
       "1. Uneducated                 -0.000619  \n",
       "2. College                    -0.007976  \n",
       "3. High School                -0.007988  \n",
       "4. Graduate                   -0.004309  \n",
       "5. Post-Graduate               0.018295  \n",
       "6. Doctorate                   0.050643  \n",
       "7. Unknown                     0.008532  "
      ]
     },
     "execution_count": 25,
     "metadata": {},
     "output_type": "execute_result"
    }
   ],
   "source": [
    "education_analysis = analyse_column(\"Education_Level\")\n",
    "education_analysis\n"
   ]
  },
  {
   "cell_type": "code",
   "execution_count": 26,
   "metadata": {},
   "outputs": [
    {
     "data": {
      "image/png": "[encoded data removed]",
      "text/plain": [
       "<Figure size 1500x1000 with 1 Axes>"
      ]
     },
     "metadata": {},
     "output_type": "display_data"
    }
   ],
   "source": [
    "visualize_analysis(education_analysis, global_mean)\n"
   ]
  },
  {
   "cell_type": "code",
   "execution_count": 27,
   "metadata": {},
   "outputs": [
    {
     "data": {
      "text/html": [
       "<div>\n",
       "<style scoped>\n",
       "    .dataframe tbody tr th:only-of-type {\n",
       "        vertical-align: middle;\n",
       "    }\n",
       "\n",
       "    .dataframe tbody tr th {\n",
       "        vertical-align: top;\n",
       "    }\n",
       "\n",
       "    .dataframe thead th {\n",
       "        text-align: right;\n",
       "    }\n",
       "</style>\n",
       "<table border=\"1\" class=\"dataframe\">\n",
       "  <thead>\n",
       "    <tr style=\"text-align: right;\">\n",
       "      <th></th>\n",
       "      <th>Active_Ratio</th>\n",
       "      <th>Group_Size</th>\n",
       "      <th>Deactivated_Amount</th>\n",
       "      <th>Deviation_From_Global</th>\n",
       "    </tr>\n",
       "    <tr>\n",
       "      <th>Income_Category</th>\n",
       "      <th></th>\n",
       "      <th></th>\n",
       "      <th></th>\n",
       "      <th></th>\n",
       "    </tr>\n",
       "  </thead>\n",
       "  <tbody>\n",
       "    <tr>\n",
       "      <th>1. &lt; $40K</th>\n",
       "      <td>0.828138</td>\n",
       "      <td>3561</td>\n",
       "      <td>612</td>\n",
       "      <td>0.011862</td>\n",
       "    </tr>\n",
       "    <tr>\n",
       "      <th>2. $40K - 60K</th>\n",
       "      <td>0.848603</td>\n",
       "      <td>1790</td>\n",
       "      <td>271</td>\n",
       "      <td>-0.008603</td>\n",
       "    </tr>\n",
       "    <tr>\n",
       "      <th>3. $60K - 80K</th>\n",
       "      <td>0.865193</td>\n",
       "      <td>1402</td>\n",
       "      <td>189</td>\n",
       "      <td>-0.025193</td>\n",
       "    </tr>\n",
       "    <tr>\n",
       "      <th>4. $80K - 120K</th>\n",
       "      <td>0.842345</td>\n",
       "      <td>1535</td>\n",
       "      <td>242</td>\n",
       "      <td>-0.002345</td>\n",
       "    </tr>\n",
       "    <tr>\n",
       "      <th>5. 120K+</th>\n",
       "      <td>0.826685</td>\n",
       "      <td>727</td>\n",
       "      <td>126</td>\n",
       "      <td>0.013315</td>\n",
       "    </tr>\n",
       "    <tr>\n",
       "      <th>6. Unknown</th>\n",
       "      <td>0.831835</td>\n",
       "      <td>1112</td>\n",
       "      <td>187</td>\n",
       "      <td>0.008165</td>\n",
       "    </tr>\n",
       "  </tbody>\n",
       "</table>\n",
       "</div>"
      ],
      "text/plain": [
       "                 Active_Ratio  Group_Size  Deactivated_Amount  \\\n",
       "Income_Category                                                 \n",
       "1. < $40K            0.828138        3561                 612   \n",
       "2. $40K - 60K        0.848603        1790                 271   \n",
       "3. $60K - 80K        0.865193        1402                 189   \n",
       "4. $80K - 120K       0.842345        1535                 242   \n",
       "5. 120K+             0.826685         727                 126   \n",
       "6. Unknown           0.831835        1112                 187   \n",
       "\n",
       "                 Deviation_From_Global  \n",
       "Income_Category                         \n",
       "1. < $40K                     0.011862  \n",
       "2. $40K - 60K                -0.008603  \n",
       "3. $60K - 80K                -0.025193  \n",
       "4. $80K - 120K               -0.002345  \n",
       "5. 120K+                      0.013315  \n",
       "6. Unknown                    0.008165  "
      ]
     },
     "execution_count": 27,
     "metadata": {},
     "output_type": "execute_result"
    }
   ],
   "source": [
    "income_analysis = analyse_column(\"Income_Category\")\n",
    "income_analysis\n"
   ]
  },
  {
   "cell_type": "code",
   "execution_count": 28,
   "metadata": {},
   "outputs": [
    {
     "data": {
      "image/png": "[encoded data removed]",
      "text/plain": [
       "<Figure size 1500x1000 with 1 Axes>"
      ]
     },
     "metadata": {},
     "output_type": "display_data"
    }
   ],
   "source": [
    "visualize_analysis(income_analysis, global_mean)\n"
   ]
  },
  {
   "cell_type": "code",
   "execution_count": 29,
   "metadata": {},
   "outputs": [],
   "source": [
    "df[\"Years_on_book\"] = pd.cut(\n",
    "    x=df[\"Months_on_book\"]/12,  # zmienna, którą chcemy pogrupować\n",
    "    bins=[1, 2, 3, 4, 5]  # koszyki, według których dane mają być pogrupowane\n",
    "    )\n"
   ]
  },
  {
   "cell_type": "code",
   "execution_count": 30,
   "metadata": {},
   "outputs": [
    {
     "data": {
      "text/html": [
       "<div>\n",
       "<style scoped>\n",
       "    .dataframe tbody tr th:only-of-type {\n",
       "        vertical-align: middle;\n",
       "    }\n",
       "\n",
       "    .dataframe tbody tr th {\n",
       "        vertical-align: top;\n",
       "    }\n",
       "\n",
       "    .dataframe thead th {\n",
       "        text-align: right;\n",
       "    }\n",
       "</style>\n",
       "<table border=\"1\" class=\"dataframe\">\n",
       "  <thead>\n",
       "    <tr style=\"text-align: right;\">\n",
       "      <th></th>\n",
       "      <th>Active_Ratio</th>\n",
       "      <th>Group_Size</th>\n",
       "      <th>Deactivated_Amount</th>\n",
       "      <th>Deviation_From_Global</th>\n",
       "    </tr>\n",
       "    <tr>\n",
       "      <th>Years_on_book</th>\n",
       "      <th></th>\n",
       "      <th></th>\n",
       "      <th></th>\n",
       "      <th></th>\n",
       "    </tr>\n",
       "  </thead>\n",
       "  <tbody>\n",
       "    <tr>\n",
       "      <th>(1, 2]</th>\n",
       "      <td>0.851240</td>\n",
       "      <td>847</td>\n",
       "      <td>126</td>\n",
       "      <td>-0.011240</td>\n",
       "    </tr>\n",
       "    <tr>\n",
       "      <th>(2, 3]</th>\n",
       "      <td>0.839240</td>\n",
       "      <td>5418</td>\n",
       "      <td>871</td>\n",
       "      <td>0.000760</td>\n",
       "    </tr>\n",
       "    <tr>\n",
       "      <th>(3, 4]</th>\n",
       "      <td>0.838167</td>\n",
       "      <td>3207</td>\n",
       "      <td>519</td>\n",
       "      <td>0.001833</td>\n",
       "    </tr>\n",
       "    <tr>\n",
       "      <th>(4, 5]</th>\n",
       "      <td>0.830534</td>\n",
       "      <td>655</td>\n",
       "      <td>111</td>\n",
       "      <td>0.009466</td>\n",
       "    </tr>\n",
       "  </tbody>\n",
       "</table>\n",
       "</div>"
      ],
      "text/plain": [
       "               Active_Ratio  Group_Size  Deactivated_Amount  \\\n",
       "Years_on_book                                                 \n",
       "(1, 2]             0.851240         847                 126   \n",
       "(2, 3]             0.839240        5418                 871   \n",
       "(3, 4]             0.838167        3207                 519   \n",
       "(4, 5]             0.830534         655                 111   \n",
       "\n",
       "               Deviation_From_Global  \n",
       "Years_on_book                         \n",
       "(1, 2]                     -0.011240  \n",
       "(2, 3]                      0.000760  \n",
       "(3, 4]                      0.001833  \n",
       "(4, 5]                      0.009466  "
      ]
     },
     "execution_count": 30,
     "metadata": {},
     "output_type": "execute_result"
    }
   ],
   "source": [
    "months_analysis = analyse_column(\"Years_on_book\")\n",
    "months_analysis\n"
   ]
  },
  {
   "cell_type": "code",
   "execution_count": 32,
   "metadata": {},
   "outputs": [
    {
     "data": {
      "image/png": "[encoded data removed]",
      "text/plain": [
       "<Figure size 1500x1000 with 1 Axes>"
      ]
     },
     "metadata": {},
     "output_type": "display_data"
    }
   ],
   "source": [
    "visualize_analysis(income_analysis, global_mean)"
   ]
  }
 ],
 "metadata": {
  "kernelspec": {
   "display_name": "Python 3.9.13 ('base')",
   "language": "python",
   "name": "python3"
  },
  "language_info": {
   "codemirror_mode": {
    "name": "ipython",
    "version": 3
   },
   "file_extension": ".py",
   "mimetype": "text/x-python",
   "name": "python",
   "nbconvert_exporter": "python",
   "pygments_lexer": "ipython3",
   "version": "3.9.13"
  },
  "orig_nbformat": 4,
  "vscode": {
   "interpreter": {
    "hash": "b022f828e6645c379fccd1f807744342951f5d55742cd6a8cf373c9fc2d96073"
   }
  }
 },
 "nbformat": 4,
 "nbformat_minor": 2
}
