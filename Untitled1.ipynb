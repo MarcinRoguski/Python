{
 "cells": [
  {
   "cell_type": "code",
   "execution_count": null,
   "id": "14135ebf",
   "metadata": {},
   "outputs": [],
   "source": []
  },
  {
   "cell_type": "code",
   "execution_count": 6,
   "id": "2755257e",
   "metadata": {},
   "outputs": [
    {
     "name": "stdout",
     "output_type": "stream",
     "text": [
      "Note: you may need to restart the kernel to use updated packages.\n"
     ]
    },
    {
     "name": "stderr",
     "output_type": "stream",
     "text": [
      "ERROR: Could not find a version that satisfies the requirement anaconda-navigator (from versions: none)\n",
      "ERROR: No matching distribution found for anaconda-navigator\n"
     ]
    }
   ],
   "source": [
    "pip install anaconda-navigator\n"
   ]
  },
  {
   "cell_type": "code",
   "execution_count": 4,
   "id": "91a0bdd0",
   "metadata": {},
   "outputs": [
    {
     "ename": "NameError",
     "evalue": "name 'anacond' is not defined",
     "output_type": "error",
     "traceback": [
      "\u001b[1;31m---------------------------------------------------------------------------\u001b[0m",
      "\u001b[1;31mNameError\u001b[0m                                 Traceback (most recent call last)",
      "Input \u001b[1;32mIn [4]\u001b[0m, in \u001b[0;36m<cell line: 1>\u001b[1;34m()\u001b[0m\n\u001b[1;32m----> 1\u001b[0m \u001b[43manacond\u001b[49m\u001b[38;5;241m-\u001b[39mnavigator\n",
      "\u001b[1;31mNameError\u001b[0m: name 'anacond' is not defined"
     ]
    }
   ],
   "source": [
    "anacond-navigator\n"
   ]
  },
  {
   "cell_type": "code",
   "execution_count": 5,
   "id": "31ecca5f",
   "metadata": {},
   "outputs": [
    {
     "ename": "NameError",
     "evalue": "name 'anaconda' is not defined",
     "output_type": "error",
     "traceback": [
      "\u001b[1;31m---------------------------------------------------------------------------\u001b[0m",
      "\u001b[1;31mNameError\u001b[0m                                 Traceback (most recent call last)",
      "Input \u001b[1;32mIn [5]\u001b[0m, in \u001b[0;36m<cell line: 1>\u001b[1;34m()\u001b[0m\n\u001b[1;32m----> 1\u001b[0m \u001b[43manaconda\u001b[49m\u001b[38;5;241m-\u001b[39mnavigator\n",
      "\u001b[1;31mNameError\u001b[0m: name 'anaconda' is not defined"
     ]
    }
   ],
   "source": [
    "anaconda-navigator\n"
   ]
  },
  {
   "cell_type": "code",
   "execution_count": null,
   "id": "b98e4d3a",
   "metadata": {},
   "outputs": [],
   "source": []
  }
 ],
 "metadata": {
  "kernelspec": {
   "display_name": "Python 3 (ipykernel)",
   "language": "python",
   "name": "python3"
  },
  "language_info": {
   "codemirror_mode": {
    "name": "ipython",
    "version": 3
   },
   "file_extension": ".py",
   "mimetype": "text/x-python",
   "name": "python",
   "nbconvert_exporter": "python",
   "pygments_lexer": "ipython3",
   "version": "3.10.6"
  }
 },
 "nbformat": 4,
 "nbformat_minor": 5
}
